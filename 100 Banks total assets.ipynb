{
 "cells": [
  {
   "cell_type": "code",
   "execution_count": 1,
   "metadata": {},
   "outputs": [],
   "source": [
    "from bs4 import BeautifulSoup\n",
    "import requests\n",
    "import pandas as pd\n",
    "\n",
    "url = \"https://web.archive.org/web/20230908091635%20/https://en.wikipedia.org/wiki/List_of_largest_banks\""
   ]
  },
  {
   "cell_type": "code",
   "execution_count": 3,
   "metadata": {},
   "outputs": [],
   "source": [
    "page = requests.get(url)\n",
    "soup = BeautifulSoup(page.text, 'html.parser')\n",
    "tables = soup.find_all('table')"
   ]
  },
  {
   "cell_type": "code",
   "execution_count": 39,
   "metadata": {},
   "outputs": [
    {
     "name": "stdout",
     "output_type": "stream",
     "text": [
      "   Ranks                                        Bank Name  Total Assets\n",
      "0      1  Industrial and Commercial Bank of China Limited      5,742.86\n",
      "1      2                          China Construction Bank      5,016.81\n",
      "2      3                       Agricultural Bank of China      4,919.03\n",
      "3      4                                    Bank of China      4,192.12\n",
      "4      5                                   JPMorgan Chase      3,868.24\n",
      "..   ...                                              ...           ...\n",
      "95    96                          National Bank of Canada        312.67\n",
      "96    97                                  Macquarie Group        313.47\n",
      "97    98                      Nationwide Building Society        311.93\n",
      "98    99                                Raiffeisen Gruppe        303.50\n",
      "99   100                             First Abu Dhabi Bank        302.22\n",
      "\n",
      "[100 rows x 3 columns]\n"
     ]
    }
   ],
   "source": [
    "rows = tables[1].find_all('tr')\n",
    "x=[]\n",
    "for row in rows:\n",
    "     row_list = []\n",
    "     element = row.find_all('td')\n",
    "     for i in element:\n",
    "       row_list.append(i.text.strip())\n",
    "     if len(row_list) ==3:\n",
    "         x.append(row_list)\n",
    "    \n",
    "df = pd.DataFrame(x, columns=[\"Ranks\", \"Bank Name\", \" Total Assets\"])\n",
    "print(df)\n"
   ]
  }
 ],
 "metadata": {
  "kernelspec": {
   "display_name": "Python 3",
   "language": "python",
   "name": "python3"
  },
  "language_info": {
   "codemirror_mode": {
    "name": "ipython",
    "version": 3
   },
   "file_extension": ".py",
   "mimetype": "text/x-python",
   "name": "python",
   "nbconvert_exporter": "python",
   "pygments_lexer": "ipython3",
   "version": "3.12.4"
  }
 },
 "nbformat": 4,
 "nbformat_minor": 2
}
